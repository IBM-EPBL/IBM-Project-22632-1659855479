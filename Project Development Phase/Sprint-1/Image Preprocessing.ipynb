{
 "cells": [
  {
   "cell_type": "code",
   "execution_count": 2,
   "id": "f5685073",
   "metadata": {},
   "outputs": [],
   "source": [
    "#Image Preprocessing\n",
    "import numpy as np #used for numerical analysis\n",
    "import tensorflow #open source used for both ML and Dl for computation\n",
    "from tensorflow.keras.models import Sequential #it is a plain stack of layers\n",
    "from tensorflow.keras import layers #A layer consists of a tensor-in tensor.out computation function\n",
    "#Dense layer is the regular deeplyconnected neural network layer"
   ]
  },
  {
   "cell_type": "code",
   "execution_count": 3,
   "id": "9b537afb",
   "metadata": {},
   "outputs": [],
   "source": [
    "from tensorflow.keras.layers import Dense,Flatten \n",
    "#Faltten-used fot flattening the input or change the dimension\n",
    "from tensorflow.keras.layers import Conv2D,MaxPooling2D,Dropout #Convolutional layer\n",
    "#MaxPooling2D-for downsampling the image\n",
    "from keras.preprocessing.image import ImageDataGenerator"
   ]
  },
  {
   "cell_type": "code",
   "execution_count": 4,
   "id": "f8ce6173",
   "metadata": {},
   "outputs": [],
   "source": [
    "#setting parameter for Image Data agumentation to the training data\n",
    "train_datagen=ImageDataGenerator(rescale=1./255,shear_range=0.2,zoom_range=0.2,horizontal_flip=True)"
   ]
  },
  {
   "cell_type": "code",
   "execution_count": 5,
   "id": "71fbcc2d",
   "metadata": {},
   "outputs": [],
   "source": [
    "#Image Data agumentation to the testing data\n",
    "test_datagen=ImageDataGenerator(rescale=1./255)"
   ]
  },
  {
   "cell_type": "code",
   "execution_count": 6,
   "id": "2c2905b2",
   "metadata": {},
   "outputs": [
    {
     "name": "stdout",
     "output_type": "stream",
     "text": [
      "Found 2626 images belonging to 5 classes.\n"
     ]
    }
   ],
   "source": [
    "#performing data agumentation to train data\n",
    "x_train=train_datagen.flow_from_directory(r\"C:\\Users\\ELCOT\\Desktop\\Datasets\\TRAIN_SET\",target_size = (64,64),batch_size=5,color_mode='rgb',class_mode = \"sparse\")"
   ]
  },
  {
   "cell_type": "code",
   "execution_count": 7,
   "id": "6b13743b",
   "metadata": {},
   "outputs": [
    {
     "name": "stdout",
     "output_type": "stream",
     "text": [
      "Found 1052 images belonging to 5 classes.\n"
     ]
    }
   ],
   "source": [
    "#performing data agumentation to test data\n",
    "x_test=test_datagen.flow_from_directory(r\"C:\\Users\\ELCOT\\Desktop\\Datasets\\TEST_SET\",target_size = (64,64),batch_size=5,color_mode='rgb',class_mode = \"sparse\")"
   ]
  }
 ],
 "metadata": {
  "kernelspec": {
   "display_name": "Python 3 (ipykernel)",
   "language": "python",
   "name": "python3"
  },
  "language_info": {
   "codemirror_mode": {
    "name": "ipython",
    "version": 3
   },
   "file_extension": ".py",
   "mimetype": "text/x-python",
   "name": "python",
   "nbconvert_exporter": "python",
   "pygments_lexer": "ipython3",
   "version": "3.9.13"
  }
 },
 "nbformat": 4,
 "nbformat_minor": 5
}
